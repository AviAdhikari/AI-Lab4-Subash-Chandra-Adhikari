{
  "nbformat": 4,
  "nbformat_minor": 0,
  "metadata": {
    "colab": {
      "provenance": [],
      "authorship_tag": "ABX9TyNWE85UyY+XsmMbZOvf9cSY",
      "include_colab_link": true
    },
    "kernelspec": {
      "name": "python3",
      "display_name": "Python 3"
    },
    "language_info": {
      "name": "python"
    }
  },
  "cells": [
    {
      "cell_type": "markdown",
      "metadata": {
        "id": "view-in-github",
        "colab_type": "text"
      },
      "source": [
        "<a href=\"https://colab.research.google.com/github/AviAdhikari/AI-Lab4-Subash-Chandra-Adhikari/blob/main/Visualisation%20KNN.ipynb\" target=\"_parent\"><img src=\"https://colab.research.google.com/assets/colab-badge.svg\" alt=\"Open In Colab\"/></a>"
      ]
    },
    {
      "cell_type": "code",
      "execution_count": 7,
      "metadata": {
        "colab": {
          "base_uri": "https://localhost:8080/"
        },
        "id": "kDz0pYYrbQ5L",
        "outputId": "00ac8e7a-ccbf-4d97-b5d7-f187f3fae373"
      },
      "outputs": [
        {
          "output_type": "stream",
          "name": "stdout",
          "text": [
            "Enter Feature1: 1.2\n",
            "Enter Feature2: 2.6\n",
            "Enter value of k: 6\n",
            "\n",
            "Nearest Neighbors:\n",
            "Index: 1, Distance: 0.89, Label: Class A\n",
            "Index: 2, Distance: 2.41, Label: Class B\n",
            "Index: 3, Distance: 4.49, Label: Class B\n",
            "Index: 0, Distance: 4.84, Label: Class A\n",
            "\n",
            "Predicted Class: Class A\n"
          ]
        },
        {
          "output_type": "stream",
          "name": "stderr",
          "text": [
            "/tmp/ipython-input-7-2763599119.py:22: FutureWarning: Series.__getitem__ treating keys as positions is deprecated. In a future version, integer keys will always be treated as labels (consistent with DataFrame behavior). To access a value by position, use `ser.iloc[pos]`\n",
            "  dist = math.sqrt(sum((row_features[j] - query[j]) ** 2 for j in range(len(features))))\n"
          ]
        }
      ],
      "source": [
        "import matplotlib.pyplot as plt\n",
        "from collections import Counter\n",
        "\n",
        "data = [\n",
        "    ([6, 2], 'A'),\n",
        "    ([2, 3], 'A'),\n",
        "    ([3, 1], 'B'),\n",
        "    ([5, 5], 'B')\n",
        "]\n",
        "\n",
        "def distance(p1, p2):\n",
        "    total = 0\n",
        "    for i in range(len(p1)):\n",
        "        total += (p1[i] - p2[i]) ** 2\n",
        "    return total ** 0.5\n",
        "\n",
        "def knn(test_point, data, k=3):\n",
        "    distances = []\n",
        "    for features, label in data:\n",
        "        dist = distance(test_point, features)\n",
        "        distances.append((dist, label, features))\n",
        "    distances.sort(key=lambda x: x[0])\n",
        "    neighbors = distances[:k]\n",
        "\n",
        "    labels = [label for _, label, _ in neighbors]\n",
        "    prediction = Counter(labels).most_common(1)[0][0]\n",
        "\n",
        "    for features, label in data:\n",
        "        color = 'red' if label == 'A' else 'blue'\n",
        "        plt.scatter(features[0], features[1], c=color)\n",
        "\n",
        "    for _, _, features in neighbors:\n",
        "        plt.scatter(features[0], features[1], facecolors='none', edgecolors='yellow', s=200, linewidths=2)\n",
        "\n",
        "    plt.scatter(test_point[0], test_point[1], c='green', marker='*', s=200)\n",
        "    plt.title(f'Predicted class: {prediction}')\n",
        "    plt.xlabel('Feature 1')\n",
        "    plt.ylabel('Feature 2')\n",
        "    plt.show()\n",
        "\n",
        "    return prediction\n",
        "\n",
        "test_point = [4, 4]\n",
        "print(\"Classified as:\", knn(test_point, data))"
      ]
    }
  ]
}